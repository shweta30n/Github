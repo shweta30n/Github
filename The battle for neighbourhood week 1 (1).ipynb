{
 "cells": [
  {
   "cell_type": "markdown",
   "metadata": {},
   "source": [
    "## INTRODUCTION\n",
    "####  New York (NY), is the most densely populated city in the United States. As per the 2018 estimates, the population of 8,398,748 distributed over a land area of about 302.6 square miles. New York City consists of five boroughs; these boroughs are the separate county of the State of New York. The five boroughs are Brooklyn, Queens, Manhattan,  Bronx, and Staten Island – were consolidated into a single city in 1898. New York is also known for its diversity in terms of the immigrant population from different countries. There are over 800 languages spoken in New York City. For this reason, New York is often recognized as the world's most linguistically diverse city. \n",
    "#### According to the Census Bureau’s American Community Survey, 51 percent of the population in New York speaks only English. The remaining 49 percent speak other languages, although there are areas in the outer boroughs in which up to 25% of people speak English as an alternate language, and have limited or no English language fluency. English is least spoken in neighborhoods such as Flushing, Sunset Park, and Corona.\n",
    "#### It is also known for its diverse culture amongst those there is one which is called food culture. There are many restaurants in New York City, which belongs to the different cuisines like Chinese, Indian, French, Mexican, Korean, etc.\n",
    "#### In the part of this project, I will visualize and analyze all major parts of New York City which have Korean restaurants for recommendation  to open Korean restaurant. Also to target korean customer and other non korean customer as this place has advantage of diversity..\n",
    " \n"
   ]
  },
  {
   "cell_type": "markdown",
   "metadata": {},
   "source": [
    "### Data\n",
    "####  The following data :\n",
    " #### •\tNew York City data contains the list of Boroughs, Neighborhoods along with their latitude and longitude.\n",
    "#####  \tData source: https://cocl.us/new_york_dataset\n",
    " ##### \tDescription: This dataset has all required information. I will use this dataset to explore various neighborhoods of New York City.\n",
    "#### •\tKorean restaurants in each neighborhood of New York City.\n",
    "##### \tData source: Foursquare API\n",
    "##### \tDescription: with the help of API, I will acquire the information of all the venues in each neighborhood. After this step, I will extract information about only Korean restaurants.\n",
    "#### •\tGeo Space data\n",
    "#####  \tData source: https://data.cityofnewyork.us/City-Government/Borough-Boundaries/tqmj-j8zm\n",
    "#####  \tDescription: The geospace data will help to get information about the New York Borough boundaries to visualize choropleth map.\n"
   ]
  },
  {
   "cell_type": "markdown",
   "metadata": {},
   "source": [
    "## Analysis\n",
    "#### To Analysis the data I will use some built-in and non built- in fuctions:\n",
    "##### •\tpyforest to import all data science libraries for handling data.\n",
    "##### •\tRequest module to use Foursquare API.\n",
    "##### •\tGeopy to get co-ordinates of the City of New York.\n",
    "\n"
   ]
  },
  {
   "cell_type": "markdown",
   "metadata": {},
   "source": [
    "## Approach\n",
    "##### •\tCollect the new York city data from https://cocl.us/new_york_dataset\n",
    "##### •\tUsing Foursquare API to find all venues for each neighborhood.\n",
    "##### •\tExtract information about all venues that are Korean Restaurants.\n",
    "##### •\tFind out Tips, rating, and like count for each Korean Restaurants with the help of Foursquare API.\n",
    "##### •\tUse rating for each restaurant to sort that data.\n",
    "##### •\tVisualize the Ranking of neighborhoods by using folium library(python)\n"
   ]
  },
  {
   "cell_type": "markdown",
   "metadata": {},
   "source": [
    "## Questions that can be asked with this datasets\n",
    "##### •\tFirst I go with, which areas have potential Korean Restaurant Market?\n",
    "##### •\tThen list out all those areas, which are lack of Korean Restaurant?\n",
    "##### •\tWhat is the best location in New York City for Korean Cuisine?\n",
    "##### •\tWhich is the best place to stay if I prefer Korean Cuisine?\n"
   ]
  },
  {
   "cell_type": "code",
   "execution_count": null,
   "metadata": {},
   "outputs": [],
   "source": []
  }
 ],
 "metadata": {
  "kernelspec": {
   "display_name": "Python",
   "language": "python",
   "name": "conda-env-python-py"
  },
  "language_info": {
   "codemirror_mode": {
    "name": "ipython",
    "version": 3
   },
   "file_extension": ".py",
   "mimetype": "text/x-python",
   "name": "python",
   "nbconvert_exporter": "python",
   "pygments_lexer": "ipython3",
   "version": "3.6.7"
  }
 },
 "nbformat": 4,
 "nbformat_minor": 4
}
