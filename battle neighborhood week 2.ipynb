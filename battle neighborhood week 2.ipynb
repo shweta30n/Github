{
 "cells": [
  {
   "cell_type": "code",
   "execution_count": 4,
   "metadata": {},
   "outputs": [
    {
     "name": "stdout",
     "output_type": "stream",
     "text": [
      "Collecting pyforest\n",
      "\u001b[?25l  Downloading https://files.pythonhosted.org/packages/ca/7a/2280448ba4202604eb3f9e23d9a4fd0ca1473d31aca0a90fdb5f31dd902c/pyforest-0.1.1.tar.gz (3.4MB)\n",
      "\u001b[K     |████████████████████████████████| 3.4MB 2.2MB/s eta 0:00:01\n",
      "\u001b[?25hBuilding wheels for collected packages: pyforest\n",
      "  Building wheel for pyforest (setup.py) ... \u001b[?25ldone\n",
      "\u001b[?25h  Stored in directory: /home/jupyterlab/.cache/pip/wheels/77/f9/78/51500678d6ce472b574216a40cba6c81d1766ee7cc838cce3c\n",
      "Successfully built pyforest\n",
      "Installing collected packages: pyforest\n",
      "Successfully installed pyforest-0.1.1\n",
      "Note: you may need to restart the kernel to use updated packages.\n"
     ]
    }
   ],
   "source": [
    "pip install pyforest # to import all libraries."
   ]
  },
  {
   "cell_type": "code",
   "execution_count": 5,
   "metadata": {},
   "outputs": [
    {
     "name": "stdout",
     "output_type": "stream",
     "text": [
      "Solving environment: done\n",
      "\n",
      "\n",
      "==> WARNING: A newer version of conda exists. <==\n",
      "  current version: 4.5.11\n",
      "  latest version: 4.7.11\n",
      "\n",
      "Please update conda by running\n",
      "\n",
      "    $ conda update -n base -c defaults conda\n",
      "\n",
      "\n",
      "\n",
      "## Package Plan ##\n",
      "\n",
      "  environment location: /home/jupyterlab/conda/envs/python\n",
      "\n",
      "  added / updated specs: \n",
      "    - geopy\n",
      "\n",
      "\n",
      "The following packages will be downloaded:\n",
      "\n",
      "    package                    |            build\n",
      "    ---------------------------|-----------------\n",
      "    geopy-1.20.0               |             py_0          57 KB  conda-forge\n",
      "    geographiclib-1.49         |             py_0          32 KB  conda-forge\n",
      "    ------------------------------------------------------------\n",
      "                                           Total:          90 KB\n",
      "\n",
      "The following NEW packages will be INSTALLED:\n",
      "\n",
      "    geographiclib: 1.49-py_0   conda-forge\n",
      "    geopy:         1.20.0-py_0 conda-forge\n",
      "\n",
      "\n",
      "Downloading and Extracting Packages\n",
      "geopy-1.20.0         | 57 KB     | ##################################### | 100% \n",
      "geographiclib-1.49   | 32 KB     | ##################################### | 100% \n",
      "Preparing transaction: done\n",
      "Verifying transaction: done\n",
      "Executing transaction: done\n",
      "Solving environment: done\n",
      "\n",
      "\n",
      "==> WARNING: A newer version of conda exists. <==\n",
      "  current version: 4.5.11\n",
      "  latest version: 4.7.11\n",
      "\n",
      "Please update conda by running\n",
      "\n",
      "    $ conda update -n base -c defaults conda\n",
      "\n",
      "\n",
      "\n",
      "# All requested packages already installed.\n",
      "\n",
      "Libraries imported.\n"
     ]
    }
   ],
   "source": [
    "from pyforest import*\n",
    "!conda install -c conda-forge geopy --yes # uncomment this line if you haven't completed the Foursquare API lab\n",
    "from geopy.geocoders import Nominatim # convert an address into latitude and longitude values\n",
    "from pandas.io.json import json_normalize # tranform JSON file into a pandas dataframe\n",
    "# import k-means from clustering stage\n",
    "from sklearn.cluster import KMeans\n",
    "\n",
    "!conda install -c conda-forge folium=0.5.0 --yes # uncomment this line if you haven't completed the Foursquare API lab\n",
    "import folium # map rendering library\n",
    "\n",
    "print('Libraries imported.')\n",
    "\n"
   ]
  },
  {
   "cell_type": "code",
   "execution_count": 6,
   "metadata": {},
   "outputs": [
    {
     "name": "stdout",
     "output_type": "stream",
     "text": [
      "Collecting BeautifulSoup4\n",
      "\u001b[?25l  Downloading https://files.pythonhosted.org/packages/1a/b7/34eec2fe5a49718944e215fde81288eec1fa04638aa3fb57c1c6cd0f98c3/beautifulsoup4-4.8.0-py3-none-any.whl (97kB)\n",
      "\u001b[K     |████████████████████████████████| 102kB 2.8MB/s ta 0:00:011\n",
      "\u001b[?25hCollecting soupsieve>=1.2 (from BeautifulSoup4)\n",
      "  Downloading https://files.pythonhosted.org/packages/0b/44/0474f2207fdd601bb25787671c81076333d2c80e6f97e92790f8887cf682/soupsieve-1.9.3-py2.py3-none-any.whl\n",
      "Installing collected packages: soupsieve, BeautifulSoup4\n",
      "Successfully installed BeautifulSoup4-4.8.0 soupsieve-1.9.3\n",
      "Note: you may need to restart the kernel to use updated packages.\n"
     ]
    }
   ],
   "source": [
    "pip install BeautifulSoup4"
   ]
  },
  {
   "cell_type": "code",
   "execution_count": 7,
   "metadata": {},
   "outputs": [],
   "source": [
    "from bs4 import BeautifulSoup"
   ]
  },
  {
   "cell_type": "markdown",
   "metadata": {},
   "source": [
    "#### To get the geocodes with define function i.e latitude and longitude of a given location using geopy."
   ]
  },
  {
   "cell_type": "code",
   "execution_count": 8,
   "metadata": {},
   "outputs": [],
   "source": [
    "def geo_location(address):\n",
    "    # get geo location of address\n",
    "    geolocator = Nominatim(user_agent=\"ny_explorer\")\n",
    "    location = geolocator.geocode(address)\n",
    "    latitude = location.latitude\n",
    "    longitude = location.longitude\n",
    "    return latitude,longitude"
   ]
  },
  {
   "cell_type": "markdown",
   "metadata": {},
   "source": [
    "#### I define a function to interact with FourSquare API and get top 20 venues within a radius of 1000 Metres for a given latitude and longitude. \n",
    "#### The function below will return with venue id , venue name and category."
   ]
  },
  {
   "cell_type": "code",
   "execution_count": 9,
   "metadata": {},
   "outputs": [],
   "source": [
    "def get_venues(lat,lng):\n",
    "    \n",
    "    #set variables\n",
    "    radius=1000\n",
    "    LIMIT=20\n",
    "    CLIENT_ID ='ND1RRO1PE4PKV5PR24KGRU0OXIRLZIFTMCVHUJL1DC3ZUIPO' # your Foursquare ID\n",
    "    CLIENT_SECRET ='L2HTSUD1FV3I1TVJOGHDJRXKOKODHOMZHKP42KTVPPWQ54D2' # your Foursquare Secret\n",
    "    VERSION = '20180605' # Foursquare API version\n",
    "    \n",
    "    #url to fetch data from foursquare api\n",
    "    url = 'https://api.foursquare.com/v2/venues/explore?&client_id={}&client_secret={}&v={}&ll={},{}&radius={}&limit={}'.format(\n",
    "            CLIENT_ID, \n",
    "            CLIENT_SECRET, \n",
    "            VERSION, \n",
    "            lat, \n",
    "            lng, \n",
    "            radius, \n",
    "            LIMIT)\n",
    "    \n",
    "    # get all the data\n",
    "    results = requests.get(url).json()\n",
    "    venue_data=results[\"response\"]['groups'][0]['items']\n",
    "    venue_details=[]\n",
    "    for row in venue_data:\n",
    "        try:\n",
    "            venue_id=row['venue']['id']\n",
    "            venue_name=row['venue']['name']\n",
    "            venue_category=row['venue']['categories'][0]['name']\n",
    "            venue_details.append([venue_id,venue_name,venue_category])\n",
    "        except KeyError:\n",
    "            pass\n",
    "        \n",
    "    column_names=['ID','Name','Category']\n",
    "    df = pd.DataFrame(venue_details,columns=column_names)\n",
    "    return df"
   ]
  },
  {
   "cell_type": "markdown",
   "metadata": {},
   "source": [
    "#### In this step i will define a function to get venue details like rating ,likes,names, tip counts for a given venue id. which will be used for ranking."
   ]
  },
  {
   "cell_type": "code",
   "execution_count": 10,
   "metadata": {},
   "outputs": [],
   "source": [
    "def get_venue_details(venue_id):\n",
    "        \n",
    "    CLIENT_ID = 'ND1RRO1PE4PKV5PR24KGRU0OXIRLZIFTMCVHUJL1DC3ZUIPO'# your Foursquare ID\n",
    "    CLIENT_SECRET = 'L2HTSUD1FV3I1TVJOGHDJRXKOKODHOMZHKP42KTVPPWQ54D2' # your Foursquare Secret\n",
    "    VERSION = '20180605' # Foursquare API version\n",
    "    \n",
    "    #url to fetch data from foursquare api\n",
    "    url = 'https://api.foursquare.com/v2/venues/{}?&client_id={}&client_secret={}&v={}'.format(\n",
    "            venue_id,\n",
    "            CLIENT_ID, \n",
    "            CLIENT_SECRET, \n",
    "            VERSION)\n",
    "    \n",
    "    # get all the data\n",
    "    results = requests.get(url).json()\n",
    "    venue_data=results['response']['venue']\n",
    "    venue_details=[]\n",
    "    try:\n",
    "        venue_id=venue_data['id']\n",
    "        venue_name=venue_data['name']\n",
    "        venue_likes=venue_data['likes']['count']\n",
    "        venue_rating=venue_data['rating']\n",
    "        venue_tips=venue_data['tips']['count']\n",
    "        venue_details.append([venue_id,venue_name,venue_likes,venue_rating,venue_tips])\n",
    "    except KeyError:\n",
    "        pass\n",
    "        \n",
    "    column_names=['ID','Name','Likes','Rating','Tips']\n",
    "    df = pd.DataFrame(venue_details,columns=column_names)\n",
    "    return df"
   ]
  },
  {
   "cell_type": "markdown",
   "metadata": {},
   "source": [
    "#### Here i will take a help of define a function to get the New York city data such as Boroughs, Neighborhoods along with their latitude and longitude."
   ]
  },
  {
   "cell_type": "code",
   "execution_count": 11,
   "metadata": {},
   "outputs": [],
   "source": [
    "def get_new_york_data():\n",
    "    url='https://cocl.us/new_york_dataset'\n",
    "    resp=requests.get(url).json()\n",
    "    # all data is present in features label\n",
    "    features=resp['features']\n",
    "    \n",
    "    # define the dataframe columns\n",
    "    column_names = ['Borough', 'Neighborhood', 'Latitude', 'Longitude'] \n",
    "    # instantiate the dataframe\n",
    "    new_york_data = pd.DataFrame(columns=column_names)\n",
    "    \n",
    "    for data in features:\n",
    "        borough = data['properties']['borough'] \n",
    "        neighborhood_name = data['properties']['name']\n",
    "        \n",
    "        neighborhood_latlon = data['geometry']['coordinates']\n",
    "        neighborhood_lat = neighborhood_latlon[1]\n",
    "        neighborhood_lon = neighborhood_latlon[0]\n",
    "    \n",
    "        new_york_data = new_york_data.append({'Borough': borough,\n",
    "                                          'Neighborhood': neighborhood_name,\n",
    "                                          'Latitude': neighborhood_lat,\n",
    "                                          'Longitude': neighborhood_lon}, ignore_index=True)\n",
    "    \n",
    "    return new_york_data"
   ]
  },
  {
   "cell_type": "code",
   "execution_count": 12,
   "metadata": {},
   "outputs": [],
   "source": [
    "# get new york data\n",
    "import requests # library to handle requests\n",
    "new_york_data=get_new_york_data()"
   ]
  },
  {
   "cell_type": "code",
   "execution_count": 13,
   "metadata": {},
   "outputs": [
    {
     "data": {
      "text/plain": [
       "(306, 4)"
      ]
     },
     "execution_count": 13,
     "metadata": {},
     "output_type": "execute_result"
    }
   ],
   "source": [
    "new_york_data.shape"
   ]
  },
  {
   "cell_type": "markdown",
   "metadata": {},
   "source": [
    "#### It shows that there is 306 different Neighborhoods in New York"
   ]
  },
  {
   "cell_type": "code",
   "execution_count": 14,
   "metadata": {},
   "outputs": [
    {
     "data": {
      "text/html": [
       "<div>\n",
       "<style scoped>\n",
       "    .dataframe tbody tr th:only-of-type {\n",
       "        vertical-align: middle;\n",
       "    }\n",
       "\n",
       "    .dataframe tbody tr th {\n",
       "        vertical-align: top;\n",
       "    }\n",
       "\n",
       "    .dataframe thead th {\n",
       "        text-align: right;\n",
       "    }\n",
       "</style>\n",
       "<table border=\"1\" class=\"dataframe\">\n",
       "  <thead>\n",
       "    <tr style=\"text-align: right;\">\n",
       "      <th></th>\n",
       "      <th>Borough</th>\n",
       "      <th>Neighborhood</th>\n",
       "      <th>Latitude</th>\n",
       "      <th>Longitude</th>\n",
       "    </tr>\n",
       "  </thead>\n",
       "  <tbody>\n",
       "    <tr>\n",
       "      <td>0</td>\n",
       "      <td>Bronx</td>\n",
       "      <td>Wakefield</td>\n",
       "      <td>40.894705</td>\n",
       "      <td>-73.847201</td>\n",
       "    </tr>\n",
       "    <tr>\n",
       "      <td>1</td>\n",
       "      <td>Bronx</td>\n",
       "      <td>Co-op City</td>\n",
       "      <td>40.874294</td>\n",
       "      <td>-73.829939</td>\n",
       "    </tr>\n",
       "    <tr>\n",
       "      <td>2</td>\n",
       "      <td>Bronx</td>\n",
       "      <td>Eastchester</td>\n",
       "      <td>40.887556</td>\n",
       "      <td>-73.827806</td>\n",
       "    </tr>\n",
       "    <tr>\n",
       "      <td>3</td>\n",
       "      <td>Bronx</td>\n",
       "      <td>Fieldston</td>\n",
       "      <td>40.895437</td>\n",
       "      <td>-73.905643</td>\n",
       "    </tr>\n",
       "    <tr>\n",
       "      <td>4</td>\n",
       "      <td>Bronx</td>\n",
       "      <td>Riverdale</td>\n",
       "      <td>40.890834</td>\n",
       "      <td>-73.912585</td>\n",
       "    </tr>\n",
       "  </tbody>\n",
       "</table>\n",
       "</div>"
      ],
      "text/plain": [
       "  Borough Neighborhood   Latitude  Longitude\n",
       "0   Bronx    Wakefield  40.894705 -73.847201\n",
       "1   Bronx   Co-op City  40.874294 -73.829939\n",
       "2   Bronx  Eastchester  40.887556 -73.827806\n",
       "3   Bronx    Fieldston  40.895437 -73.905643\n",
       "4   Bronx    Riverdale  40.890834 -73.912585"
      ]
     },
     "execution_count": 14,
     "metadata": {},
     "output_type": "execute_result"
    }
   ],
   "source": [
    "new_york_data.head()"
   ]
  },
  {
   "cell_type": "code",
   "execution_count": 15,
   "metadata": {},
   "outputs": [],
   "source": [
    "# Matplotlib and associated plotting modules\n",
    "import matplotlib.pyplot as plt\n",
    "\n",
    "import matplotlib.cm as cm\n",
    "import matplotlib.colors as colors\n",
    "%matplotlib inline"
   ]
  },
  {
   "cell_type": "code",
   "execution_count": 16,
   "metadata": {},
   "outputs": [
    {
     "data": {
      "image/png": "[encoded data removed]",
      "text/plain": [
       "<Figure size 900x500 with 1 Axes>"
      ]
     },
     "metadata": {
      "needs_background": "light"
     },
     "output_type": "display_data"
    }
   ],
   "source": [
    "plt.figure(figsize=(9,5), dpi = 100)\n",
    "# title\n",
    "plt.title('Number of Neighborhood for each Borough in New York City')\n",
    "#On x-axis\n",
    "plt.xlabel('Borough', fontsize = 15)\n",
    "#On y-axis\n",
    "plt.ylabel('No.of Neighborhood', fontsize=15)\n",
    "#giving a bar plot\n",
    "new_york_data.groupby('Borough')['Neighborhood'].count().plot(kind='bar',color='green')\n",
    "#legend\n",
    "plt.legend()\n",
    "#displays the plot\n",
    "plt.show()"
   ]
  },
  {
   "cell_type": "code",
   "execution_count": 3,
   "metadata": {},
   "outputs": [],
   "source": [
    "#### The figure above shows that Queens has highest number of neighborhoods"
   ]
  },
  {
   "cell_type": "code",
   "execution_count": 26,
   "metadata": {},
   "outputs": [
    {
     "name": "stdout",
     "output_type": "stream",
     "text": [
      "( 1 / 306 ) Korean Resturants in Wakefield, Bronx:0\n",
      "( 2 / 306 ) Korean Resturants in Co-op City, Bronx:0\n",
      "( 3 / 306 ) Korean Resturants in Eastchester, Bronx:0\n",
      "( 4 / 306 ) Korean Resturants in Fieldston, Bronx:0\n",
      "( 5 / 306 ) Korean Resturants in Riverdale, Bronx:0\n",
      "( 6 / 306 ) Korean Resturants in Kingsbridge, Bronx:0\n",
      "( 7 / 306 ) Korean Resturants in Marble Hill, Manhattan:0\n",
      "( 8 / 306 ) Korean Resturants in Woodlawn, Bronx:0\n",
      "( 9 / 306 ) Korean Resturants in Norwood, Bronx:0\n",
      "( 10 / 306 ) Korean Resturants in Williamsbridge, Bronx:0\n",
      "( 11 / 306 ) Korean Resturants in Baychester, Bronx:0\n",
      "( 12 / 306 ) Korean Resturants in Pelham Parkway, Bronx:0\n",
      "( 13 / 306 ) Korean Resturants in City Island, Bronx:0\n",
      "( 14 / 306 ) Korean Resturants in Bedford Park, Bronx:0\n",
      "( 15 / 306 ) Korean Resturants in University Heights, Bronx:0\n",
      "( 16 / 306 ) Korean Resturants in Morris Heights, Bronx:0\n",
      "( 17 / 306 ) Korean Resturants in Fordham, Bronx:0\n",
      "( 18 / 306 ) Korean Resturants in East Tremont, Bronx:0\n",
      "( 19 / 306 ) Korean Resturants in West Farms, Bronx:0\n",
      "( 20 / 306 ) Korean Resturants in High  Bridge, Bronx:0\n",
      "( 21 / 306 ) Korean Resturants in Melrose, Bronx:0\n",
      "( 22 / 306 ) Korean Resturants in Mott Haven, Bronx:0\n",
      "( 23 / 306 ) Korean Resturants in Port Morris, Bronx:0\n",
      "( 24 / 306 ) Korean Resturants in Longwood, Bronx:0\n",
      "( 25 / 306 ) Korean Resturants in Hunts Point, Bronx:0\n",
      "( 26 / 306 ) Korean Resturants in Morrisania, Bronx:0\n",
      "( 27 / 306 ) Korean Resturants in Soundview, Bronx:0\n",
      "( 28 / 306 ) Korean Resturants in Clason Point, Bronx:0\n",
      "( 29 / 306 ) Korean Resturants in Throgs Neck, Bronx:0\n",
      "( 30 / 306 ) Korean Resturants in Country Club, Bronx:0\n",
      "( 31 / 306 ) Korean Resturants in Parkchester, Bronx:0\n",
      "( 32 / 306 ) Korean Resturants in Westchester Square, Bronx:0\n",
      "( 33 / 306 ) Korean Resturants in Van Nest, Bronx:0\n",
      "( 34 / 306 ) Korean Resturants in Morris Park, Bronx:0\n",
      "( 35 / 306 ) Korean Resturants in Belmont, Bronx:0\n",
      "( 36 / 306 ) Korean Resturants in Spuyten Duyvil, Bronx:0\n",
      "( 37 / 306 ) Korean Resturants in North Riverdale, Bronx:0\n",
      "( 38 / 306 ) Korean Resturants in Pelham Bay, Bronx:0\n",
      "( 39 / 306 ) Korean Resturants in Schuylerville, Bronx:0\n",
      "( 40 / 306 ) Korean Resturants in Edgewater Park, Bronx:0\n",
      "( 41 / 306 ) Korean Resturants in Castle Hill, Bronx:0\n",
      "( 42 / 306 ) Korean Resturants in Olinville, Bronx:0\n",
      "( 43 / 306 ) Korean Resturants in Pelham Gardens, Bronx:0\n",
      "( 44 / 306 ) Korean Resturants in Concourse, Bronx:0\n",
      "( 45 / 306 ) Korean Resturants in Unionport, Bronx:0\n",
      "( 46 / 306 ) Korean Resturants in Edenwald, Bronx:0\n",
      "( 47 / 306 ) Korean Resturants in Bay Ridge, Brooklyn:0\n",
      "( 48 / 306 ) Korean Resturants in Bensonhurst, Brooklyn:0\n",
      "( 49 / 306 ) Korean Resturants in Sunset Park, Brooklyn:0\n",
      "( 50 / 306 ) Korean Resturants in Greenpoint, Brooklyn:0\n",
      "( 51 / 306 ) Korean Resturants in Gravesend, Brooklyn:0\n",
      "( 52 / 306 ) Korean Resturants in Brighton Beach, Brooklyn:1\n",
      "( 53 / 306 ) Korean Resturants in Sheepshead Bay, Brooklyn:0\n",
      "( 54 / 306 ) Korean Resturants in Manhattan Terrace, Brooklyn:0\n",
      "( 55 / 306 ) Korean Resturants in Flatbush, Brooklyn:0\n",
      "( 56 / 306 ) Korean Resturants in Crown Heights, Brooklyn:0\n",
      "( 57 / 306 ) Korean Resturants in East Flatbush, Brooklyn:0\n",
      "( 58 / 306 ) Korean Resturants in Kensington, Brooklyn:0\n",
      "( 59 / 306 ) Korean Resturants in Windsor Terrace, Brooklyn:0\n",
      "( 60 / 306 ) Korean Resturants in Prospect Heights, Brooklyn:1\n",
      "( 61 / 306 ) Korean Resturants in Brownsville, Brooklyn:0\n",
      "( 62 / 306 ) Korean Resturants in Williamsburg, Brooklyn:1\n",
      "( 63 / 306 ) Korean Resturants in Bushwick, Brooklyn:0\n",
      "( 64 / 306 ) Korean Resturants in Bedford Stuyvesant, Brooklyn:0\n",
      "( 65 / 306 ) Korean Resturants in Brooklyn Heights, Brooklyn:0\n",
      "( 66 / 306 ) Korean Resturants in Cobble Hill, Brooklyn:0\n",
      "( 67 / 306 ) Korean Resturants in Carroll Gardens, Brooklyn:0\n",
      "( 68 / 306 ) Korean Resturants in Red Hook, Brooklyn:0\n",
      "( 69 / 306 ) Korean Resturants in Gowanus, Brooklyn:0\n",
      "( 70 / 306 ) Korean Resturants in Fort Greene, Brooklyn:0\n",
      "( 71 / 306 ) Korean Resturants in Park Slope, Brooklyn:0\n",
      "( 72 / 306 ) Korean Resturants in Cypress Hills, Brooklyn:0\n",
      "( 73 / 306 ) Korean Resturants in East New York, Brooklyn:0\n",
      "( 74 / 306 ) Korean Resturants in Starrett City, Brooklyn:0\n",
      "( 75 / 306 ) Korean Resturants in Canarsie, Brooklyn:0\n",
      "( 76 / 306 ) Korean Resturants in Flatlands, Brooklyn:0\n",
      "( 77 / 306 ) Korean Resturants in Mill Island, Brooklyn:0\n",
      "( 78 / 306 ) Korean Resturants in Manhattan Beach, Brooklyn:0\n",
      "( 79 / 306 ) Korean Resturants in Coney Island, Brooklyn:0\n",
      "( 80 / 306 ) Korean Resturants in Bath Beach, Brooklyn:0\n",
      "( 81 / 306 ) Korean Resturants in Borough Park, Brooklyn:0\n",
      "( 82 / 306 ) Korean Resturants in Dyker Heights, Brooklyn:0\n",
      "( 83 / 306 ) Korean Resturants in Gerritsen Beach, Brooklyn:0\n",
      "( 84 / 306 ) Korean Resturants in Marine Park, Brooklyn:0\n",
      "( 85 / 306 ) Korean Resturants in Clinton Hill, Brooklyn:0\n",
      "( 86 / 306 ) Korean Resturants in Sea Gate, Brooklyn:0\n",
      "( 87 / 306 ) Korean Resturants in Downtown, Brooklyn:0\n",
      "( 88 / 306 ) Korean Resturants in Boerum Hill, Brooklyn:0\n",
      "( 89 / 306 ) Korean Resturants in Prospect Lefferts Gardens, Brooklyn:0\n",
      "( 90 / 306 ) Korean Resturants in Ocean Hill, Brooklyn:0\n",
      "( 91 / 306 ) Korean Resturants in City Line, Brooklyn:0\n",
      "( 92 / 306 ) Korean Resturants in Bergen Beach, Brooklyn:0\n",
      "( 93 / 306 ) Korean Resturants in Midwood, Brooklyn:0\n",
      "( 94 / 306 ) Korean Resturants in Prospect Park South, Brooklyn:0\n",
      "( 95 / 306 ) Korean Resturants in Georgetown, Brooklyn:0\n",
      "( 96 / 306 ) Korean Resturants in East Williamsburg, Brooklyn:0\n",
      "( 97 / 306 ) Korean Resturants in North Side, Brooklyn:0\n",
      "( 98 / 306 ) Korean Resturants in South Side, Brooklyn:0\n",
      "( 99 / 306 ) Korean Resturants in Ocean Parkway, Brooklyn:0\n",
      "( 100 / 306 ) Korean Resturants in Fort Hamilton, Brooklyn:0\n",
      "( 101 / 306 ) Korean Resturants in Chinatown, Manhattan:0\n",
      "( 102 / 306 ) Korean Resturants in Washington Heights, Manhattan:0\n",
      "( 103 / 306 ) Korean Resturants in Inwood, Manhattan:0\n",
      "( 104 / 306 ) Korean Resturants in Hamilton Heights, Manhattan:0\n",
      "( 105 / 306 ) Korean Resturants in Manhattanville, Manhattan:0\n",
      "( 106 / 306 ) Korean Resturants in Central Harlem, Manhattan:0\n",
      "( 107 / 306 ) Korean Resturants in East Harlem, Manhattan:0\n",
      "( 108 / 306 ) Korean Resturants in Upper East Side, Manhattan:0\n",
      "( 109 / 306 ) Korean Resturants in Yorkville, Manhattan:0\n",
      "( 110 / 306 ) Korean Resturants in Lenox Hill, Manhattan:0\n",
      "( 111 / 306 ) Korean Resturants in Roosevelt Island, Manhattan:0\n",
      "( 112 / 306 ) Korean Resturants in Upper West Side, Manhattan:0\n",
      "( 113 / 306 ) Korean Resturants in Lincoln Square, Manhattan:0\n",
      "( 114 / 306 ) Korean Resturants in Clinton, Manhattan:0\n",
      "( 115 / 306 ) Korean Resturants in Midtown, Manhattan:0\n",
      "( 116 / 306 ) Korean Resturants in Murray Hill, Manhattan:0\n",
      "( 117 / 306 ) Korean Resturants in Chelsea, Manhattan:0\n",
      "( 118 / 306 ) Korean Resturants in Greenwich Village, Manhattan:0\n",
      "( 119 / 306 ) Korean Resturants in East Village, Manhattan:1\n",
      "( 120 / 306 ) Korean Resturants in Lower East Side, Manhattan:0\n",
      "( 121 / 306 ) Korean Resturants in Tribeca, Manhattan:0\n",
      "( 122 / 306 ) Korean Resturants in Little Italy, Manhattan:0\n",
      "( 123 / 306 ) Korean Resturants in Soho, Manhattan:0\n",
      "( 124 / 306 ) Korean Resturants in West Village, Manhattan:0\n",
      "( 125 / 306 ) Korean Resturants in Manhattan Valley, Manhattan:1\n",
      "( 126 / 306 ) Korean Resturants in Morningside Heights, Manhattan:0\n",
      "( 127 / 306 ) Korean Resturants in Gramercy, Manhattan:0\n",
      "( 128 / 306 ) Korean Resturants in Battery Park City, Manhattan:0\n",
      "( 129 / 306 ) Korean Resturants in Financial District, Manhattan:0\n",
      "( 130 / 306 ) Korean Resturants in Astoria, Queens:0\n",
      "( 131 / 306 ) Korean Resturants in Woodside, Queens:0\n",
      "( 132 / 306 ) Korean Resturants in Jackson Heights, Queens:0\n",
      "( 133 / 306 ) Korean Resturants in Elmhurst, Queens:0\n",
      "( 134 / 306 ) Korean Resturants in Howard Beach, Queens:0\n",
      "( 135 / 306 ) Korean Resturants in Corona, Queens:0\n",
      "( 136 / 306 ) Korean Resturants in Forest Hills, Queens:0\n",
      "( 137 / 306 ) Korean Resturants in Kew Gardens, Queens:0\n",
      "( 138 / 306 ) Korean Resturants in Richmond Hill, Queens:0\n",
      "( 139 / 306 ) Korean Resturants in Flushing, Queens:1\n",
      "( 140 / 306 ) Korean Resturants in Long Island City, Queens:0\n",
      "( 141 / 306 ) Korean Resturants in Sunnyside, Queens:0\n",
      "( 142 / 306 ) Korean Resturants in East Elmhurst, Queens:0\n",
      "( 143 / 306 ) Korean Resturants in Maspeth, Queens:0\n",
      "( 144 / 306 ) Korean Resturants in Ridgewood, Queens:0\n",
      "( 145 / 306 ) Korean Resturants in Glendale, Queens:0\n",
      "( 146 / 306 ) Korean Resturants in Rego Park, Queens:0\n",
      "( 147 / 306 ) Korean Resturants in Woodhaven, Queens:0\n",
      "( 148 / 306 ) Korean Resturants in Ozone Park, Queens:0\n",
      "( 149 / 306 ) Korean Resturants in South Ozone Park, Queens:0\n",
      "( 150 / 306 ) Korean Resturants in College Point, Queens:1\n",
      "( 151 / 306 ) Korean Resturants in Whitestone, Queens:0\n",
      "( 152 / 306 ) Korean Resturants in Bayside, Queens:0\n",
      "( 153 / 306 ) Korean Resturants in Auburndale, Queens:1\n",
      "( 154 / 306 ) Korean Resturants in Little Neck, Queens:0\n",
      "( 155 / 306 ) Korean Resturants in Douglaston, Queens:0\n",
      "( 156 / 306 ) Korean Resturants in Glen Oaks, Queens:0\n",
      "( 157 / 306 ) Korean Resturants in Bellerose, Queens:0\n",
      "( 158 / 306 ) Korean Resturants in Kew Gardens Hills, Queens:0\n",
      "( 159 / 306 ) Korean Resturants in Fresh Meadows, Queens:0\n",
      "( 160 / 306 ) Korean Resturants in Briarwood, Queens:0\n",
      "( 161 / 306 ) Korean Resturants in Jamaica Center, Queens:0\n",
      "( 162 / 306 ) Korean Resturants in Oakland Gardens, Queens:3\n",
      "( 163 / 306 ) Korean Resturants in Queens Village, Queens:0\n",
      "( 164 / 306 ) Korean Resturants in Hollis, Queens:0\n",
      "( 165 / 306 ) Korean Resturants in South Jamaica, Queens:0\n",
      "( 166 / 306 ) Korean Resturants in St. Albans, Queens:0\n",
      "( 167 / 306 ) Korean Resturants in Rochdale, Queens:0\n",
      "( 168 / 306 ) Korean Resturants in Springfield Gardens, Queens:0\n",
      "( 169 / 306 ) Korean Resturants in Cambria Heights, Queens:0\n",
      "( 170 / 306 ) Korean Resturants in Rosedale, Queens:0\n",
      "( 171 / 306 ) Korean Resturants in Far Rockaway, Queens:0\n",
      "( 172 / 306 ) Korean Resturants in Broad Channel, Queens:0\n",
      "( 173 / 306 ) Korean Resturants in Breezy Point, Queens:0\n",
      "( 174 / 306 ) Korean Resturants in Steinway, Queens:0\n",
      "( 175 / 306 ) Korean Resturants in Beechhurst, Queens:0\n",
      "( 176 / 306 ) Korean Resturants in Bay Terrace, Queens:0\n",
      "( 177 / 306 ) Korean Resturants in Edgemere, Queens:0\n",
      "( 178 / 306 ) Korean Resturants in Arverne, Queens:0\n",
      "( 179 / 306 ) Korean Resturants in Rockaway Beach, Queens:0\n",
      "( 180 / 306 ) Korean Resturants in Neponsit, Queens:0\n",
      "( 181 / 306 ) Korean Resturants in Murray Hill, Queens:9\n",
      "( 182 / 306 ) Korean Resturants in Floral Park, Queens:0\n",
      "( 183 / 306 ) Korean Resturants in Holliswood, Queens:0\n",
      "( 184 / 306 ) Korean Resturants in Jamaica Estates, Queens:0\n",
      "( 185 / 306 ) Korean Resturants in Queensboro Hill, Queens:0\n",
      "( 186 / 306 ) Korean Resturants in Hillcrest, Queens:0\n",
      "( 187 / 306 ) Korean Resturants in Ravenswood, Queens:0\n",
      "( 188 / 306 ) Korean Resturants in Lindenwood, Queens:0\n",
      "( 189 / 306 ) Korean Resturants in Laurelton, Queens:0\n",
      "( 190 / 306 ) Korean Resturants in Lefrak City, Queens:0\n",
      "( 191 / 306 ) Korean Resturants in Belle Harbor, Queens:0\n",
      "( 192 / 306 ) Korean Resturants in Rockaway Park, Queens:0\n",
      "( 193 / 306 ) Korean Resturants in Somerville, Queens:0\n",
      "( 194 / 306 ) Korean Resturants in Brookville, Queens:0\n",
      "( 195 / 306 ) Korean Resturants in Bellaire, Queens:0\n",
      "( 196 / 306 ) Korean Resturants in North Corona, Queens:0\n",
      "( 197 / 306 ) Korean Resturants in Forest Hills Gardens, Queens:0\n",
      "( 198 / 306 ) Korean Resturants in St. George, Staten Island:0\n",
      "( 199 / 306 ) Korean Resturants in New Brighton, Staten Island:0\n",
      "( 200 / 306 ) Korean Resturants in Stapleton, Staten Island:0\n",
      "( 201 / 306 ) Korean Resturants in Rosebank, Staten Island:0\n",
      "( 202 / 306 ) Korean Resturants in West Brighton, Staten Island:0\n",
      "( 203 / 306 ) Korean Resturants in Grymes Hill, Staten Island:0\n",
      "( 204 / 306 ) Korean Resturants in Todt Hill, Staten Island:0\n",
      "( 205 / 306 ) Korean Resturants in South Beach, Staten Island:0\n",
      "( 206 / 306 ) Korean Resturants in Port Richmond, Staten Island:0\n",
      "( 207 / 306 ) Korean Resturants in Mariner's Harbor, Staten Island:0\n",
      "( 208 / 306 ) Korean Resturants in Port Ivory, Staten Island:0\n",
      "( 209 / 306 ) Korean Resturants in Castleton Corners, Staten Island:0\n",
      "( 210 / 306 ) Korean Resturants in New Springville, Staten Island:0\n",
      "( 211 / 306 ) Korean Resturants in Travis, Staten Island:0\n",
      "( 212 / 306 ) Korean Resturants in New Dorp, Staten Island:0\n",
      "( 213 / 306 ) Korean Resturants in Oakwood, Staten Island:0\n",
      "( 214 / 306 ) Korean Resturants in Great Kills, Staten Island:0\n",
      "( 215 / 306 ) Korean Resturants in Eltingville, Staten Island:0\n",
      "( 216 / 306 ) Korean Resturants in Annadale, Staten Island:0\n",
      "( 217 / 306 ) Korean Resturants in Woodrow, Staten Island:0\n",
      "( 218 / 306 ) Korean Resturants in Tottenville, Staten Island:0\n",
      "( 219 / 306 ) Korean Resturants in Tompkinsville, Staten Island:0\n",
      "( 220 / 306 ) Korean Resturants in Silver Lake, Staten Island:0\n",
      "( 221 / 306 ) Korean Resturants in Sunnyside, Staten Island:0\n",
      "( 222 / 306 ) Korean Resturants in Ditmas Park, Brooklyn:0\n",
      "( 223 / 306 ) Korean Resturants in Wingate, Brooklyn:0\n",
      "( 224 / 306 ) Korean Resturants in Rugby, Brooklyn:0\n",
      "( 225 / 306 ) Korean Resturants in Park Hill, Staten Island:0\n",
      "( 226 / 306 ) Korean Resturants in Westerleigh, Staten Island:0\n",
      "( 227 / 306 ) Korean Resturants in Graniteville, Staten Island:0\n",
      "( 228 / 306 ) Korean Resturants in Arlington, Staten Island:0\n",
      "( 229 / 306 ) Korean Resturants in Arrochar, Staten Island:0\n",
      "( 230 / 306 ) Korean Resturants in Grasmere, Staten Island:0\n",
      "( 231 / 306 ) Korean Resturants in Old Town, Staten Island:0\n",
      "( 232 / 306 ) Korean Resturants in Dongan Hills, Staten Island:0\n",
      "( 233 / 306 ) Korean Resturants in Midland Beach, Staten Island:0\n",
      "( 234 / 306 ) Korean Resturants in Grant City, Staten Island:0\n",
      "( 235 / 306 ) Korean Resturants in New Dorp Beach, Staten Island:0\n",
      "( 236 / 306 ) Korean Resturants in Bay Terrace, Staten Island:0\n",
      "( 237 / 306 ) Korean Resturants in Huguenot, Staten Island:0\n",
      "( 238 / 306 ) Korean Resturants in Pleasant Plains, Staten Island:0\n",
      "( 239 / 306 ) Korean Resturants in Butler Manor, Staten Island:0\n",
      "( 240 / 306 ) Korean Resturants in Charleston, Staten Island:0\n",
      "( 241 / 306 ) Korean Resturants in Rossville, Staten Island:0\n",
      "( 242 / 306 ) Korean Resturants in Arden Heights, Staten Island:0\n",
      "( 243 / 306 ) Korean Resturants in Greenridge, Staten Island:0\n",
      "( 244 / 306 ) Korean Resturants in Heartland Village, Staten Island:0\n",
      "( 245 / 306 ) Korean Resturants in Chelsea, Staten Island:0\n",
      "( 246 / 306 ) Korean Resturants in Bloomfield, Staten Island:0\n",
      "( 247 / 306 ) Korean Resturants in Bulls Head, Staten Island:0\n",
      "( 248 / 306 ) Korean Resturants in Carnegie Hill, Manhattan:0\n",
      "( 249 / 306 ) Korean Resturants in Noho, Manhattan:0\n",
      "( 250 / 306 ) Korean Resturants in Civic Center, Manhattan:0\n",
      "( 251 / 306 ) Korean Resturants in Midtown South, Manhattan:4\n",
      "( 252 / 306 ) Korean Resturants in Richmond Town, Staten Island:0\n",
      "( 253 / 306 ) Korean Resturants in Shore Acres, Staten Island:0\n",
      "( 254 / 306 ) Korean Resturants in Clifton, Staten Island:0\n",
      "( 255 / 306 ) Korean Resturants in Concord, Staten Island:0\n",
      "( 256 / 306 ) Korean Resturants in Emerson Hill, Staten Island:0\n",
      "( 257 / 306 ) Korean Resturants in Randall Manor, Staten Island:0\n",
      "( 258 / 306 ) Korean Resturants in Howland Hook, Staten Island:0\n",
      "( 259 / 306 ) Korean Resturants in Elm Park, Staten Island:0\n",
      "( 260 / 306 ) Korean Resturants in Remsen Village, Brooklyn:0\n",
      "( 261 / 306 ) Korean Resturants in New Lots, Brooklyn:0\n",
      "( 262 / 306 ) Korean Resturants in Paerdegat Basin, Brooklyn:0\n",
      "( 263 / 306 ) Korean Resturants in Mill Basin, Brooklyn:0\n",
      "( 264 / 306 ) Korean Resturants in Jamaica Hills, Queens:0\n",
      "( 265 / 306 ) Korean Resturants in Utopia, Queens:0\n",
      "( 266 / 306 ) Korean Resturants in Pomonok, Queens:0\n",
      "( 267 / 306 ) Korean Resturants in Astoria Heights, Queens:0\n",
      "( 268 / 306 ) Korean Resturants in Claremont Village, Bronx:0\n",
      "( 269 / 306 ) Korean Resturants in Concourse Village, Bronx:0\n",
      "( 270 / 306 ) Korean Resturants in Mount Eden, Bronx:0\n",
      "( 271 / 306 ) Korean Resturants in Mount Hope, Bronx:0\n",
      "( 272 / 306 ) Korean Resturants in Sutton Place, Manhattan:0\n",
      "( 273 / 306 ) Korean Resturants in Hunters Point, Queens:0\n",
      "( 274 / 306 ) Korean Resturants in Turtle Bay, Manhattan:0\n",
      "( 275 / 306 ) Korean Resturants in Tudor City, Manhattan:0\n",
      "( 276 / 306 ) Korean Resturants in Stuyvesant Town, Manhattan:0\n",
      "( 277 / 306 ) Korean Resturants in Flatiron, Manhattan:0\n",
      "( 278 / 306 ) Korean Resturants in Sunnyside Gardens, Queens:1\n",
      "( 279 / 306 ) Korean Resturants in Blissville, Queens:0\n",
      "( 280 / 306 ) Korean Resturants in Fulton Ferry, Brooklyn:0\n",
      "( 281 / 306 ) Korean Resturants in Vinegar Hill, Brooklyn:0\n",
      "( 282 / 306 ) Korean Resturants in Weeksville, Brooklyn:0\n",
      "( 283 / 306 ) Korean Resturants in Broadway Junction, Brooklyn:0\n",
      "( 284 / 306 ) Korean Resturants in Dumbo, Brooklyn:0\n",
      "( 285 / 306 ) Korean Resturants in Manor Heights, Staten Island:0\n",
      "( 286 / 306 ) Korean Resturants in Willowbrook, Staten Island:0\n",
      "( 287 / 306 ) Korean Resturants in Sandy Ground, Staten Island:0\n",
      "( 288 / 306 ) Korean Resturants in Egbertville, Staten Island:0\n",
      "( 289 / 306 ) Korean Resturants in Roxbury, Queens:0\n",
      "( 290 / 306 ) Korean Resturants in Homecrest, Brooklyn:0\n",
      "( 291 / 306 ) Korean Resturants in Middle Village, Queens:0\n",
      "( 292 / 306 ) Korean Resturants in Prince's Bay, Staten Island:0\n",
      "( 293 / 306 ) Korean Resturants in Lighthouse Hill, Staten Island:0\n",
      "( 294 / 306 ) Korean Resturants in Richmond Valley, Staten Island:0\n",
      "( 295 / 306 ) Korean Resturants in Malba, Queens:1\n",
      "( 296 / 306 ) Korean Resturants in Highland Park, Brooklyn:0\n",
      "( 297 / 306 ) Korean Resturants in Madison, Brooklyn:0\n",
      "( 298 / 306 ) Korean Resturants in Bronxdale, Bronx:0\n",
      "( 299 / 306 ) Korean Resturants in Allerton, Bronx:0\n",
      "( 300 / 306 ) Korean Resturants in Kingsbridge Heights, Bronx:0\n",
      "( 301 / 306 ) Korean Resturants in Erasmus, Brooklyn:0\n",
      "( 302 / 306 ) Korean Resturants in Hudson Yards, Manhattan:0\n",
      "( 303 / 306 ) Korean Resturants in Hammels, Queens:0\n",
      "( 304 / 306 ) Korean Resturants in Bayswater, Queens:0\n",
      "( 305 / 306 ) Korean Resturants in Queensbridge, Queens:0\n",
      "( 306 / 306 ) Korean Resturants in Fox Hills, Staten Island:0\n"
     ]
    }
   ],
   "source": [
    "# prepare neighborhood list that contains Korean resturants\n",
    "column_names=['Borough', 'Neighborhood', 'ID','Name']\n",
    "korean_rest_ny=pd.DataFrame(columns=column_names)\n",
    "count=1\n",
    "for row in new_york_data.values.tolist():\n",
    "    Borough, Neighborhood, Latitude, Longitude=row\n",
    "    venues = get_venues(Latitude,Longitude)\n",
    "    korean_resturants=venues[venues['Category']=='Korean Restaurant']   \n",
    "    print('(',count,'/',len(new_york_data),')','Korean Resturants in '+Neighborhood+', '+Borough+':'+str(len(korean_resturants)))\n",
    "    for resturant_detail in korean_resturants.values.tolist():\n",
    "        id, name , category=resturant_detail\n",
    "        korean_rest_ny = korean_rest_ny.append({'Borough': Borough,\n",
    "                                                'Neighborhood': Neighborhood, \n",
    "                                                'ID': id,\n",
    "                                                'Name' : name\n",
    "                                               }, ignore_index=True)\n",
    "    count+=1\n"
   ]
  },
  {
   "cell_type": "markdown",
   "metadata": {},
   "source": [
    "#### this data have got all the Korean restaurants in New York city for analyzation."
   ]
  },
  {
   "cell_type": "code",
   "execution_count": 27,
   "metadata": {},
   "outputs": [
    {
     "data": {
      "text/html": [
       "<div>\n",
       "<style scoped>\n",
       "    .dataframe tbody tr th:only-of-type {\n",
       "        vertical-align: middle;\n",
       "    }\n",
       "\n",
       "    .dataframe tbody tr th {\n",
       "        vertical-align: top;\n",
       "    }\n",
       "\n",
       "    .dataframe thead th {\n",
       "        text-align: right;\n",
       "    }\n",
       "</style>\n",
       "<table border=\"1\" class=\"dataframe\">\n",
       "  <thead>\n",
       "    <tr style=\"text-align: right;\">\n",
       "      <th></th>\n",
       "      <th>Borough</th>\n",
       "      <th>Neighborhood</th>\n",
       "      <th>ID</th>\n",
       "      <th>Name</th>\n",
       "    </tr>\n",
       "  </thead>\n",
       "  <tbody>\n",
       "    <tr>\n",
       "      <td>0</td>\n",
       "      <td>Brooklyn</td>\n",
       "      <td>Brighton Beach</td>\n",
       "      <td>4c9d5c0303133704a96f5ed5</td>\n",
       "      <td>Cafe At Your Mother-in-Law</td>\n",
       "    </tr>\n",
       "    <tr>\n",
       "      <td>1</td>\n",
       "      <td>Brooklyn</td>\n",
       "      <td>Prospect Heights</td>\n",
       "      <td>4fa162e0e4b0badc81404a51</td>\n",
       "      <td>Kimchi Grill</td>\n",
       "    </tr>\n",
       "    <tr>\n",
       "      <td>2</td>\n",
       "      <td>Brooklyn</td>\n",
       "      <td>Williamsburg</td>\n",
       "      <td>52bf3053498e754b09a440b5</td>\n",
       "      <td>Dotory</td>\n",
       "    </tr>\n",
       "    <tr>\n",
       "      <td>3</td>\n",
       "      <td>Manhattan</td>\n",
       "      <td>East Village</td>\n",
       "      <td>578bec6c498e3150fc369f3b</td>\n",
       "      <td>Thursday Kitchen</td>\n",
       "    </tr>\n",
       "    <tr>\n",
       "      <td>4</td>\n",
       "      <td>Manhattan</td>\n",
       "      <td>Manhattan Valley</td>\n",
       "      <td>56a14149498e9983c0199038</td>\n",
       "      <td>Mokja</td>\n",
       "    </tr>\n",
       "  </tbody>\n",
       "</table>\n",
       "</div>"
      ],
      "text/plain": [
       "     Borough      Neighborhood                        ID  \\\n",
       "0   Brooklyn    Brighton Beach  4c9d5c0303133704a96f5ed5   \n",
       "1   Brooklyn  Prospect Heights  4fa162e0e4b0badc81404a51   \n",
       "2   Brooklyn      Williamsburg  52bf3053498e754b09a440b5   \n",
       "3  Manhattan      East Village  578bec6c498e3150fc369f3b   \n",
       "4  Manhattan  Manhattan Valley  56a14149498e9983c0199038   \n",
       "\n",
       "                         Name  \n",
       "0  Cafe At Your Mother-in-Law  \n",
       "1                Kimchi Grill  \n",
       "2                      Dotory  \n",
       "3            Thursday Kitchen  \n",
       "4                       Mokja  "
      ]
     },
     "execution_count": 27,
     "metadata": {},
     "output_type": "execute_result"
    }
   ],
   "source": [
    "korean_rest_ny.head()"
   ]
  },
  {
   "cell_type": "code",
   "execution_count": 28,
   "metadata": {},
   "outputs": [
    {
     "data": {
      "text/plain": [
       "(26, 4)"
      ]
     },
     "execution_count": 28,
     "metadata": {},
     "output_type": "execute_result"
    }
   ],
   "source": [
    "korean_rest_ny.shape"
   ]
  },
  {
   "cell_type": "code",
   "execution_count": 29,
   "metadata": {},
   "outputs": [
    {
     "data": {
      "image/png": "[encoded data removed]",
      "text/plain": [
       "<Figure size 720x400 with 1 Axes>"
      ]
     },
     "metadata": {
      "needs_background": "light"
     },
     "output_type": "display_data"
    }
   ],
   "source": [
    "plt.figure(figsize=(9,5), dpi = 80)\n",
    "# title\n",
    "plt.title('Number of Korean Resturants for each Borough in New York City')\n",
    "#On x-axis\n",
    "plt.xlabel('Borough', fontsize = 12)\n",
    "#On y-axis\n",
    "plt.ylabel('No.of Korean Resturants', fontsize=12)\n",
    "#giving a bar plot\n",
    "korean_rest_ny.groupby('Borough')['ID'].count().plot(kind='bar',color=['green'])\n",
    "#legend\n",
    "plt.legend()\n",
    "#displays the plot\n",
    "plt.show()\n"
   ]
  },
  {
   "cell_type": "markdown",
   "metadata": {},
   "source": [
    "#### the above figure shows that Queens has the largest number of Korean restaurants"
   ]
  },
  {
   "cell_type": "code",
   "execution_count": 30,
   "metadata": {},
   "outputs": [
    {
     "data": {
      "image/png": "[encoded data removed]",
      "text/plain": [
       "<Figure size 720x400 with 1 Axes>"
      ]
     },
     "metadata": {
      "needs_background": "light"
     },
     "output_type": "display_data"
    }
   ],
   "source": [
    "plt.figure(figsize=(9,5), dpi = 80)\n",
    "# title\n",
    "plt.title('Number of Korean Resturants for each Neighborhood in New York City')\n",
    "#On x-axis\n",
    "plt.xlabel('Neighborhood', fontsize = 12)\n",
    "#On y-axis\n",
    "plt.ylabel('No.of Korean Resturants', fontsize=12)\n",
    "#giving a bar plot\n",
    "korean_rest_ny.groupby('Neighborhood')['ID'].count().nlargest(5).plot(kind='bar',color=['green'])\n",
    "#legend\n",
    "plt.legend()\n",
    "#displays the plot\n",
    "plt.show()\n"
   ]
  },
  {
   "cell_type": "code",
   "execution_count": 31,
   "metadata": {},
   "outputs": [
    {
     "data": {
      "text/html": [
       "<div>\n",
       "<style scoped>\n",
       "    .dataframe tbody tr th:only-of-type {\n",
       "        vertical-align: middle;\n",
       "    }\n",
       "\n",
       "    .dataframe tbody tr th {\n",
       "        vertical-align: top;\n",
       "    }\n",
       "\n",
       "    .dataframe thead th {\n",
       "        text-align: right;\n",
       "    }\n",
       "</style>\n",
       "<table border=\"1\" class=\"dataframe\">\n",
       "  <thead>\n",
       "    <tr style=\"text-align: right;\">\n",
       "      <th></th>\n",
       "      <th>Borough</th>\n",
       "      <th>Neighborhood</th>\n",
       "      <th>ID</th>\n",
       "      <th>Name</th>\n",
       "    </tr>\n",
       "  </thead>\n",
       "  <tbody>\n",
       "    <tr>\n",
       "      <td>11</td>\n",
       "      <td>Queens</td>\n",
       "      <td>Murray Hill</td>\n",
       "      <td>4b830e44f964a520ebf430e3</td>\n",
       "      <td>Hahm Ji Bach - 함지박</td>\n",
       "    </tr>\n",
       "    <tr>\n",
       "      <td>12</td>\n",
       "      <td>Queens</td>\n",
       "      <td>Murray Hill</td>\n",
       "      <td>4b8f0931f964a520d04533e3</td>\n",
       "      <td>Mapo BBQ</td>\n",
       "    </tr>\n",
       "    <tr>\n",
       "      <td>13</td>\n",
       "      <td>Queens</td>\n",
       "      <td>Murray Hill</td>\n",
       "      <td>49e10e0bf964a52089611fe3</td>\n",
       "      <td>Mad For Chicken</td>\n",
       "    </tr>\n",
       "    <tr>\n",
       "      <td>14</td>\n",
       "      <td>Queens</td>\n",
       "      <td>Murray Hill</td>\n",
       "      <td>4baeabe6f964a52037cd3be3</td>\n",
       "      <td>Kum Sung Chik Naengmyun</td>\n",
       "    </tr>\n",
       "    <tr>\n",
       "      <td>15</td>\n",
       "      <td>Queens</td>\n",
       "      <td>Murray Hill</td>\n",
       "      <td>4c7ad3dda86837048bee144d</td>\n",
       "      <td>Geo Si Gi Restaurant</td>\n",
       "    </tr>\n",
       "    <tr>\n",
       "      <td>16</td>\n",
       "      <td>Queens</td>\n",
       "      <td>Murray Hill</td>\n",
       "      <td>5518a1a8498e4c7fe6268b88</td>\n",
       "      <td>Jongro BBQ</td>\n",
       "    </tr>\n",
       "    <tr>\n",
       "      <td>17</td>\n",
       "      <td>Queens</td>\n",
       "      <td>Murray Hill</td>\n",
       "      <td>5590598a498eb1c3f975b6a6</td>\n",
       "      <td>Mr. Tofu</td>\n",
       "    </tr>\n",
       "    <tr>\n",
       "      <td>18</td>\n",
       "      <td>Queens</td>\n",
       "      <td>Murray Hill</td>\n",
       "      <td>56db53cc498eed9b68621019</td>\n",
       "      <td>SGD Tofu House</td>\n",
       "    </tr>\n",
       "    <tr>\n",
       "      <td>19</td>\n",
       "      <td>Queens</td>\n",
       "      <td>Murray Hill</td>\n",
       "      <td>4ad3bfabf964a52016e620e3</td>\n",
       "      <td>Han Joo</td>\n",
       "    </tr>\n",
       "  </tbody>\n",
       "</table>\n",
       "</div>"
      ],
      "text/plain": [
       "   Borough Neighborhood                        ID                     Name\n",
       "11  Queens  Murray Hill  4b830e44f964a520ebf430e3       Hahm Ji Bach - 함지박\n",
       "12  Queens  Murray Hill  4b8f0931f964a520d04533e3                 Mapo BBQ\n",
       "13  Queens  Murray Hill  49e10e0bf964a52089611fe3          Mad For Chicken\n",
       "14  Queens  Murray Hill  4baeabe6f964a52037cd3be3  Kum Sung Chik Naengmyun\n",
       "15  Queens  Murray Hill  4c7ad3dda86837048bee144d     Geo Si Gi Restaurant\n",
       "16  Queens  Murray Hill  5518a1a8498e4c7fe6268b88               Jongro BBQ\n",
       "17  Queens  Murray Hill  5590598a498eb1c3f975b6a6                 Mr. Tofu\n",
       "18  Queens  Murray Hill  56db53cc498eed9b68621019           SGD Tofu House\n",
       "19  Queens  Murray Hill  4ad3bfabf964a52016e620e3                  Han Joo"
      ]
     },
     "execution_count": 31,
     "metadata": {},
     "output_type": "execute_result"
    }
   ],
   "source": [
    "korean_rest_ny[korean_rest_ny['Neighborhood']=='Murray Hill']"
   ]
  },
  {
   "cell_type": "markdown",
   "metadata": {},
   "source": [
    "#### So Murray Hills in Queens has the largest number of Korean Resturants with a total count of 9."
   ]
  },
  {
   "cell_type": "code",
   "execution_count": 32,
   "metadata": {},
   "outputs": [
    {
     "name": "stdout",
     "output_type": "stream",
     "text": [
      "                         ID                        Name  Likes  Rating  Tips\n",
      "0  4c9d5c0303133704a96f5ed5  Cafe At Your Mother-in-Law     29     7.5    28\n",
      "( 1 / 26 ) processed\n",
      "                         ID          Name  Likes  Rating  Tips\n",
      "0  4fa162e0e4b0badc81404a51  Kimchi Grill    289     8.4   108\n",
      "( 2 / 26 ) processed\n",
      "                         ID    Name  Likes  Rating  Tips\n",
      "0  52bf3053498e754b09a440b5  Dotory    138     8.5    44\n",
      "( 3 / 26 ) processed\n",
      "                         ID              Name  Likes  Rating  Tips\n",
      "0  578bec6c498e3150fc369f3b  Thursday Kitchen    274     8.9    72\n",
      "( 4 / 26 ) processed\n",
      "                         ID   Name  Likes  Rating  Tips\n",
      "0  56a14149498e9983c0199038  Mokja     23     7.9     6\n",
      "( 5 / 26 ) processed\n",
      "                         ID      Name  Likes  Rating  Tips\n",
      "0  4ae39cb6f964a520439721e3  Debasaki     67     8.4    35\n",
      "( 6 / 26 ) processed\n",
      "                         ID                     Name  Likes  Rating  Tips\n",
      "0  4d3c9f7ea2e4b1f707f4ea25  Sky Garden @ Spa Castle     17     7.8     4\n",
      "( 7 / 26 ) processed\n",
      "                         ID     Name  Likes  Rating  Tips\n",
      "0  4eefef69be7ba3ed7b202455  Arirang     21     8.6    13\n",
      "( 8 / 26 ) processed\n",
      "                         ID                      Name  Likes  Rating  Tips\n",
      "0  4c8adb923dc2a1cda816b132  Bi Won Korean Restaurant     21     7.7     8\n",
      "( 9 / 26 ) processed\n",
      "                         ID             Name  Likes  Rating  Tips\n",
      "0  58efc04912c8f0495ec6865c  Chilsung Garden     15     7.5     1\n",
      "( 10 / 26 ) processed\n",
      "                         ID          Name  Likes  Rating  Tips\n",
      "0  526c1acf11d288dc8354b7b9  Rolly Kimbab     26     7.3     9\n",
      "( 11 / 26 ) processed\n",
      "                         ID                Name  Likes  Rating  Tips\n",
      "0  4b830e44f964a520ebf430e3  Hahm Ji Bach - 함지박    212     8.8    81\n",
      "( 12 / 26 ) processed\n",
      "                         ID      Name  Likes  Rating  Tips\n",
      "0  4b8f0931f964a520d04533e3  Mapo BBQ     79     8.6    32\n",
      "( 13 / 26 ) processed\n",
      "                         ID             Name  Likes  Rating  Tips\n",
      "0  49e10e0bf964a52089611fe3  Mad For Chicken    216     9.1    69\n",
      "( 14 / 26 ) processed\n",
      "                         ID                     Name  Likes  Rating  Tips\n",
      "0  4baeabe6f964a52037cd3be3  Kum Sung Chik Naengmyun     14     8.0     5\n",
      "( 15 / 26 ) processed\n",
      "                         ID                  Name  Likes  Rating  Tips\n",
      "0  4c7ad3dda86837048bee144d  Geo Si Gi Restaurant     33     7.8    12\n",
      "( 16 / 26 ) processed\n",
      "                         ID        Name  Likes  Rating  Tips\n",
      "0  5518a1a8498e4c7fe6268b88  Jongro BBQ     48     7.8     7\n",
      "( 17 / 26 ) processed\n",
      "                         ID      Name  Likes  Rating  Tips\n",
      "0  5590598a498eb1c3f975b6a6  Mr. Tofu     18     7.6     3\n",
      "( 18 / 26 ) processed\n",
      "                         ID            Name  Likes  Rating  Tips\n",
      "0  56db53cc498eed9b68621019  SGD Tofu House     11     7.8     0\n",
      "( 19 / 26 ) processed\n",
      "                         ID     Name  Likes  Rating  Tips\n",
      "0  4ad3bfabf964a52016e620e3  Han Joo     26     7.5    20\n",
      "( 20 / 26 ) processed\n",
      "                         ID        Name  Likes  Rating  Tips\n",
      "0  540f86da498e020149fa7676  Jongro BBQ    807     9.3   152\n",
      "( 21 / 26 ) processed\n",
      "                         ID                         Name  Likes  Rating  Tips\n",
      "0  5c01ccc14ac28a002c3cbd8d  Anytime Soju Bar and Eatery     34     9.0    29\n",
      "( 22 / 26 ) processed\n",
      "                         ID         Name  Likes  Rating  Tips\n",
      "0  4a9d3c1af964a520ff3720e3  E-Mo Kimbap    108     8.8    42\n",
      "( 23 / 26 ) processed\n",
      "                         ID            Name  Likes  Rating  Tips\n",
      "0  517563f9498e0a4859d08fe4  BCD Tofu House   1198     9.0   199\n",
      "( 24 / 26 ) processed\n",
      "                         ID      Name  Likes  Rating  Tips\n",
      "0  4c0c2765a1b32d7f49279cf0  Sik Gaek     77     8.3    42\n",
      "( 25 / 26 ) processed\n",
      "                         ID                     Name  Likes  Rating  Tips\n",
      "0  4d3c9f7ea2e4b1f707f4ea25  Sky Garden @ Spa Castle     17     7.8     4\n",
      "( 26 / 26 ) processed\n"
     ]
    }
   ],
   "source": [
    "# prepare neighborhood list that contains korean resturants\n",
    "column_names=['Borough', 'Neighborhood', 'ID','Name','Likes','Rating','Tips']\n",
    "korean_rest_stats_ny=pd.DataFrame(columns=column_names)\n",
    "count=1\n",
    "\n",
    "\n",
    "for row in korean_rest_ny.values.tolist():\n",
    "    Borough,Neighborhood,ID,Name=row\n",
    "    try:\n",
    "        venue_details=get_venue_details(ID)\n",
    "        print(venue_details)\n",
    "        id,name,likes,rating,tips=venue_details.values.tolist()[0]\n",
    "    except IndexError:\n",
    "        print('No data available for id=',ID)\n",
    "        \n",
    "# we will assign 0 value for these resturants as they may have been \n",
    "#recently opened or details does not exist in FourSquare Database\n",
    "        id,name,likes,rating,tips=[0]*1\n",
    "    print('(',count,'/',len(korean_rest_ny),')','processed')\n",
    "    korean_rest_stats_ny = korean_rest_stats_ny.append({'Borough': Borough,\n",
    "                                                'Neighborhood': Neighborhood, \n",
    "                                                'ID': id,\n",
    "                                                'Name' : name,\n",
    "                                                'Likes' : likes,\n",
    "                                                'Rating' : rating,\n",
    "                                                'Tips' : tips\n",
    "                                               }, ignore_index=True)\n",
    "    count+=1"
   ]
  },
  {
   "cell_type": "code",
   "execution_count": 33,
   "metadata": {},
   "outputs": [
    {
     "data": {
      "text/html": [
       "<div>\n",
       "<style scoped>\n",
       "    .dataframe tbody tr th:only-of-type {\n",
       "        vertical-align: middle;\n",
       "    }\n",
       "\n",
       "    .dataframe tbody tr th {\n",
       "        vertical-align: top;\n",
       "    }\n",
       "\n",
       "    .dataframe thead th {\n",
       "        text-align: right;\n",
       "    }\n",
       "</style>\n",
       "<table border=\"1\" class=\"dataframe\">\n",
       "  <thead>\n",
       "    <tr style=\"text-align: right;\">\n",
       "      <th></th>\n",
       "      <th>Borough</th>\n",
       "      <th>Neighborhood</th>\n",
       "      <th>ID</th>\n",
       "      <th>Name</th>\n",
       "      <th>Likes</th>\n",
       "      <th>Rating</th>\n",
       "      <th>Tips</th>\n",
       "    </tr>\n",
       "  </thead>\n",
       "  <tbody>\n",
       "    <tr>\n",
       "      <td>0</td>\n",
       "      <td>Brooklyn</td>\n",
       "      <td>Brighton Beach</td>\n",
       "      <td>4c9d5c0303133704a96f5ed5</td>\n",
       "      <td>Cafe At Your Mother-in-Law</td>\n",
       "      <td>29</td>\n",
       "      <td>7.5</td>\n",
       "      <td>28</td>\n",
       "    </tr>\n",
       "    <tr>\n",
       "      <td>1</td>\n",
       "      <td>Brooklyn</td>\n",
       "      <td>Prospect Heights</td>\n",
       "      <td>4fa162e0e4b0badc81404a51</td>\n",
       "      <td>Kimchi Grill</td>\n",
       "      <td>289</td>\n",
       "      <td>8.4</td>\n",
       "      <td>108</td>\n",
       "    </tr>\n",
       "    <tr>\n",
       "      <td>2</td>\n",
       "      <td>Brooklyn</td>\n",
       "      <td>Williamsburg</td>\n",
       "      <td>52bf3053498e754b09a440b5</td>\n",
       "      <td>Dotory</td>\n",
       "      <td>138</td>\n",
       "      <td>8.5</td>\n",
       "      <td>44</td>\n",
       "    </tr>\n",
       "    <tr>\n",
       "      <td>3</td>\n",
       "      <td>Manhattan</td>\n",
       "      <td>East Village</td>\n",
       "      <td>578bec6c498e3150fc369f3b</td>\n",
       "      <td>Thursday Kitchen</td>\n",
       "      <td>274</td>\n",
       "      <td>8.9</td>\n",
       "      <td>72</td>\n",
       "    </tr>\n",
       "    <tr>\n",
       "      <td>4</td>\n",
       "      <td>Manhattan</td>\n",
       "      <td>Manhattan Valley</td>\n",
       "      <td>56a14149498e9983c0199038</td>\n",
       "      <td>Mokja</td>\n",
       "      <td>23</td>\n",
       "      <td>7.9</td>\n",
       "      <td>6</td>\n",
       "    </tr>\n",
       "  </tbody>\n",
       "</table>\n",
       "</div>"
      ],
      "text/plain": [
       "     Borough      Neighborhood                        ID  \\\n",
       "0   Brooklyn    Brighton Beach  4c9d5c0303133704a96f5ed5   \n",
       "1   Brooklyn  Prospect Heights  4fa162e0e4b0badc81404a51   \n",
       "2   Brooklyn      Williamsburg  52bf3053498e754b09a440b5   \n",
       "3  Manhattan      East Village  578bec6c498e3150fc369f3b   \n",
       "4  Manhattan  Manhattan Valley  56a14149498e9983c0199038   \n",
       "\n",
       "                         Name Likes  Rating Tips  \n",
       "0  Cafe At Your Mother-in-Law    29     7.5   28  \n",
       "1                Kimchi Grill   289     8.4  108  \n",
       "2                      Dotory   138     8.5   44  \n",
       "3            Thursday Kitchen   274     8.9   72  \n",
       "4                       Mokja    23     7.9    6  "
      ]
     },
     "execution_count": 33,
     "metadata": {},
     "output_type": "execute_result"
    }
   ],
   "source": [
    "korean_rest_stats_ny.head()"
   ]
  },
  {
   "cell_type": "markdown",
   "metadata": {},
   "source": [
    "#### So we got data for all restaurants now i will save this data to a csv sheet. In case we by mistake modify it. As the number of calls to get details for venue are premium call and have limit of 500 per day, we will refer to saved data sheet csv if required\n",
    "\n"
   ]
  },
  {
   "cell_type": "code",
   "execution_count": 37,
   "metadata": {},
   "outputs": [],
   "source": [
    "korean_rest_stats_ny.to_csv('korean_rest_stats_ny.csv', index=False)"
   ]
  },
  {
   "cell_type": "code",
   "execution_count": 38,
   "metadata": {},
   "outputs": [],
   "source": [
    "korean_rest_stats_ny_csv=pd.read_csv('korean_rest_stats_ny.csv')"
   ]
  },
  {
   "cell_type": "code",
   "execution_count": 39,
   "metadata": {},
   "outputs": [
    {
     "data": {
      "text/html": [
       "<div>\n",
       "<style scoped>\n",
       "    .dataframe tbody tr th:only-of-type {\n",
       "        vertical-align: middle;\n",
       "    }\n",
       "\n",
       "    .dataframe tbody tr th {\n",
       "        vertical-align: top;\n",
       "    }\n",
       "\n",
       "    .dataframe thead th {\n",
       "        text-align: right;\n",
       "    }\n",
       "</style>\n",
       "<table border=\"1\" class=\"dataframe\">\n",
       "  <thead>\n",
       "    <tr style=\"text-align: right;\">\n",
       "      <th></th>\n",
       "      <th>Borough</th>\n",
       "      <th>Neighborhood</th>\n",
       "      <th>ID</th>\n",
       "      <th>Name</th>\n",
       "      <th>Likes</th>\n",
       "      <th>Rating</th>\n",
       "      <th>Tips</th>\n",
       "    </tr>\n",
       "  </thead>\n",
       "  <tbody>\n",
       "    <tr>\n",
       "      <td>0</td>\n",
       "      <td>Brooklyn</td>\n",
       "      <td>Brighton Beach</td>\n",
       "      <td>4c9d5c0303133704a96f5ed5</td>\n",
       "      <td>Cafe At Your Mother-in-Law</td>\n",
       "      <td>29</td>\n",
       "      <td>7.5</td>\n",
       "      <td>28</td>\n",
       "    </tr>\n",
       "    <tr>\n",
       "      <td>1</td>\n",
       "      <td>Brooklyn</td>\n",
       "      <td>Prospect Heights</td>\n",
       "      <td>4fa162e0e4b0badc81404a51</td>\n",
       "      <td>Kimchi Grill</td>\n",
       "      <td>289</td>\n",
       "      <td>8.4</td>\n",
       "      <td>108</td>\n",
       "    </tr>\n",
       "    <tr>\n",
       "      <td>2</td>\n",
       "      <td>Brooklyn</td>\n",
       "      <td>Williamsburg</td>\n",
       "      <td>52bf3053498e754b09a440b5</td>\n",
       "      <td>Dotory</td>\n",
       "      <td>138</td>\n",
       "      <td>8.5</td>\n",
       "      <td>44</td>\n",
       "    </tr>\n",
       "    <tr>\n",
       "      <td>3</td>\n",
       "      <td>Manhattan</td>\n",
       "      <td>East Village</td>\n",
       "      <td>578bec6c498e3150fc369f3b</td>\n",
       "      <td>Thursday Kitchen</td>\n",
       "      <td>274</td>\n",
       "      <td>8.9</td>\n",
       "      <td>72</td>\n",
       "    </tr>\n",
       "    <tr>\n",
       "      <td>4</td>\n",
       "      <td>Manhattan</td>\n",
       "      <td>Manhattan Valley</td>\n",
       "      <td>56a14149498e9983c0199038</td>\n",
       "      <td>Mokja</td>\n",
       "      <td>23</td>\n",
       "      <td>7.9</td>\n",
       "      <td>6</td>\n",
       "    </tr>\n",
       "  </tbody>\n",
       "</table>\n",
       "</div>"
      ],
      "text/plain": [
       "     Borough      Neighborhood                        ID  \\\n",
       "0   Brooklyn    Brighton Beach  4c9d5c0303133704a96f5ed5   \n",
       "1   Brooklyn  Prospect Heights  4fa162e0e4b0badc81404a51   \n",
       "2   Brooklyn      Williamsburg  52bf3053498e754b09a440b5   \n",
       "3  Manhattan      East Village  578bec6c498e3150fc369f3b   \n",
       "4  Manhattan  Manhattan Valley  56a14149498e9983c0199038   \n",
       "\n",
       "                         Name  Likes  Rating  Tips  \n",
       "0  Cafe At Your Mother-in-Law     29     7.5    28  \n",
       "1                Kimchi Grill    289     8.4   108  \n",
       "2                      Dotory    138     8.5    44  \n",
       "3            Thursday Kitchen    274     8.9    72  \n",
       "4                       Mokja     23     7.9     6  "
      ]
     },
     "execution_count": 39,
     "metadata": {},
     "output_type": "execute_result"
    }
   ],
   "source": [
    "korean_rest_stats_ny_csv.head()"
   ]
  },
  {
   "cell_type": "code",
   "execution_count": 40,
   "metadata": {},
   "outputs": [
    {
     "name": "stdout",
     "output_type": "stream",
     "text": [
      "<class 'pandas.core.frame.DataFrame'>\n",
      "RangeIndex: 26 entries, 0 to 25\n",
      "Data columns (total 7 columns):\n",
      "Borough         26 non-null object\n",
      "Neighborhood    26 non-null object\n",
      "ID              26 non-null object\n",
      "Name            26 non-null object\n",
      "Likes           26 non-null object\n",
      "Rating          26 non-null float64\n",
      "Tips            26 non-null object\n",
      "dtypes: float64(1), object(6)\n",
      "memory usage: 1.5+ KB\n"
     ]
    }
   ],
   "source": [
    "\n",
    "korean_rest_stats_ny.info()"
   ]
  },
  {
   "cell_type": "markdown",
   "metadata": {},
   "source": [
    "#### We see that values like Tips and likes are strig values. We  need to convert them into float for further analysis"
   ]
  },
  {
   "cell_type": "code",
   "execution_count": 43,
   "metadata": {},
   "outputs": [],
   "source": [
    "korean_rest_stats_ny['Likes']=korean_rest_stats_ny['Likes'].astype('float64')\n",
    "korean_rest_stats_ny['Tips']=korean_rest_stats_ny['Tips'].astype('float64')"
   ]
  },
  {
   "cell_type": "code",
   "execution_count": 41,
   "metadata": {},
   "outputs": [
    {
     "name": "stdout",
     "output_type": "stream",
     "text": [
      "<class 'pandas.core.frame.DataFrame'>\n",
      "RangeIndex: 26 entries, 0 to 25\n",
      "Data columns (total 7 columns):\n",
      "Borough         26 non-null object\n",
      "Neighborhood    26 non-null object\n",
      "ID              26 non-null object\n",
      "Name            26 non-null object\n",
      "Likes           26 non-null object\n",
      "Rating          26 non-null float64\n",
      "Tips            26 non-null object\n",
      "dtypes: float64(1), object(6)\n",
      "memory usage: 1.5+ KB\n"
     ]
    }
   ],
   "source": [
    "korean_rest_stats_ny.info()"
   ]
  },
  {
   "cell_type": "code",
   "execution_count": 44,
   "metadata": {},
   "outputs": [
    {
     "data": {
      "text/plain": [
       "Borough                        Manhattan\n",
       "Neighborhood               Midtown South\n",
       "ID              517563f9498e0a4859d08fe4\n",
       "Name                      BCD Tofu House\n",
       "Likes                               1198\n",
       "Rating                                 9\n",
       "Tips                                 199\n",
       "Name: 23, dtype: object"
      ]
     },
     "execution_count": 44,
     "metadata": {},
     "output_type": "execute_result"
    }
   ],
   "source": [
    "korean_rest_stats_ny.iloc[korean_rest_stats_ny['Likes'].idxmax()]\n",
    "korean_rest_stats_ny.iloc[korean_rest_stats_ny['Rating'].idxmax()]\n",
    "korean_rest_stats_ny.iloc[korean_rest_stats_ny['Tips'].idxmax()]"
   ]
  },
  {
   "cell_type": "markdown",
   "metadata": {},
   "source": [
    "#### Now we need to visualize neighborhood with maximum average rating of restaurants"
   ]
  },
  {
   "cell_type": "code",
   "execution_count": 46,
   "metadata": {},
   "outputs": [],
   "source": [
    "ny_neighborhood_stats=korean_rest_stats_ny.groupby('Neighborhood',as_index=False).mean()[['Neighborhood','Rating']]\n",
    "ny_neighborhood_stats.columns=['Neighborhood','Average Rating']\n"
   ]
  },
  {
   "cell_type": "code",
   "execution_count": 47,
   "metadata": {},
   "outputs": [
    {
     "data": {
      "text/html": [
       "<div>\n",
       "<style scoped>\n",
       "    .dataframe tbody tr th:only-of-type {\n",
       "        vertical-align: middle;\n",
       "    }\n",
       "\n",
       "    .dataframe tbody tr th {\n",
       "        vertical-align: top;\n",
       "    }\n",
       "\n",
       "    .dataframe thead th {\n",
       "        text-align: right;\n",
       "    }\n",
       "</style>\n",
       "<table border=\"1\" class=\"dataframe\">\n",
       "  <thead>\n",
       "    <tr style=\"text-align: right;\">\n",
       "      <th></th>\n",
       "      <th>Neighborhood</th>\n",
       "      <th>Average Rating</th>\n",
       "    </tr>\n",
       "  </thead>\n",
       "  <tbody>\n",
       "    <tr>\n",
       "      <td>7</td>\n",
       "      <td>Midtown South</td>\n",
       "      <td>9.025000</td>\n",
       "    </tr>\n",
       "    <tr>\n",
       "      <td>3</td>\n",
       "      <td>East Village</td>\n",
       "      <td>8.900000</td>\n",
       "    </tr>\n",
       "    <tr>\n",
       "      <td>0</td>\n",
       "      <td>Auburndale</td>\n",
       "      <td>8.600000</td>\n",
       "    </tr>\n",
       "    <tr>\n",
       "      <td>12</td>\n",
       "      <td>Williamsburg</td>\n",
       "      <td>8.500000</td>\n",
       "    </tr>\n",
       "    <tr>\n",
       "      <td>4</td>\n",
       "      <td>Flushing</td>\n",
       "      <td>8.400000</td>\n",
       "    </tr>\n",
       "    <tr>\n",
       "      <td>10</td>\n",
       "      <td>Prospect Heights</td>\n",
       "      <td>8.400000</td>\n",
       "    </tr>\n",
       "    <tr>\n",
       "      <td>11</td>\n",
       "      <td>Sunnyside Gardens</td>\n",
       "      <td>8.300000</td>\n",
       "    </tr>\n",
       "    <tr>\n",
       "      <td>8</td>\n",
       "      <td>Murray Hill</td>\n",
       "      <td>8.111111</td>\n",
       "    </tr>\n",
       "    <tr>\n",
       "      <td>6</td>\n",
       "      <td>Manhattan Valley</td>\n",
       "      <td>7.900000</td>\n",
       "    </tr>\n",
       "    <tr>\n",
       "      <td>2</td>\n",
       "      <td>College Point</td>\n",
       "      <td>7.800000</td>\n",
       "    </tr>\n",
       "  </tbody>\n",
       "</table>\n",
       "</div>"
      ],
      "text/plain": [
       "         Neighborhood  Average Rating\n",
       "7       Midtown South        9.025000\n",
       "3        East Village        8.900000\n",
       "0          Auburndale        8.600000\n",
       "12       Williamsburg        8.500000\n",
       "4            Flushing        8.400000\n",
       "10   Prospect Heights        8.400000\n",
       "11  Sunnyside Gardens        8.300000\n",
       "8         Murray Hill        8.111111\n",
       "6    Manhattan Valley        7.900000\n",
       "2       College Point        7.800000"
      ]
     },
     "execution_count": 47,
     "metadata": {},
     "output_type": "execute_result"
    }
   ],
   "source": [
    "ny_neighborhood_stats.sort_values(['Average Rating'],ascending=False).head(10)"
   ]
  },
  {
   "cell_type": "markdown",
   "metadata": {},
   "source": [
    "#### Same as these are the average rating of Korean Restaurants for each Borough"
   ]
  },
  {
   "cell_type": "code",
   "execution_count": 48,
   "metadata": {},
   "outputs": [],
   "source": [
    "ny_borough_stats=korean_rest_stats_ny.groupby('Borough',as_index=False).mean()[['Borough','Rating']]\n",
    "ny_borough_stats.columns=['Borough','Average Rating']\n"
   ]
  },
  {
   "cell_type": "code",
   "execution_count": 49,
   "metadata": {},
   "outputs": [
    {
     "data": {
      "text/html": [
       "<div>\n",
       "<style scoped>\n",
       "    .dataframe tbody tr th:only-of-type {\n",
       "        vertical-align: middle;\n",
       "    }\n",
       "\n",
       "    .dataframe tbody tr th {\n",
       "        vertical-align: top;\n",
       "    }\n",
       "\n",
       "    .dataframe thead th {\n",
       "        text-align: right;\n",
       "    }\n",
       "</style>\n",
       "<table border=\"1\" class=\"dataframe\">\n",
       "  <thead>\n",
       "    <tr style=\"text-align: right;\">\n",
       "      <th></th>\n",
       "      <th>Borough</th>\n",
       "      <th>Average Rating</th>\n",
       "    </tr>\n",
       "  </thead>\n",
       "  <tbody>\n",
       "    <tr>\n",
       "      <td>1</td>\n",
       "      <td>Manhattan</td>\n",
       "      <td>8.816667</td>\n",
       "    </tr>\n",
       "    <tr>\n",
       "      <td>0</td>\n",
       "      <td>Brooklyn</td>\n",
       "      <td>8.133333</td>\n",
       "    </tr>\n",
       "    <tr>\n",
       "      <td>2</td>\n",
       "      <td>Queens</td>\n",
       "      <td>8.023529</td>\n",
       "    </tr>\n",
       "  </tbody>\n",
       "</table>\n",
       "</div>"
      ],
      "text/plain": [
       "     Borough  Average Rating\n",
       "1  Manhattan        8.816667\n",
       "0   Brooklyn        8.133333\n",
       "2     Queens        8.023529"
      ]
     },
     "execution_count": 49,
     "metadata": {},
     "output_type": "execute_result"
    }
   ],
   "source": [
    "ny_borough_stats.sort_values(['Average Rating'],ascending=False).head()"
   ]
  },
  {
   "cell_type": "code",
   "execution_count": 50,
   "metadata": {},
   "outputs": [
    {
     "data": {
      "image/png": "[encoded data removed]",
      "text/plain": [
       "<Figure size 900x500 with 1 Axes>"
      ]
     },
     "metadata": {
      "needs_background": "light"
     },
     "output_type": "display_data"
    }
   ],
   "source": [
    "plt.figure(figsize=(9,5), dpi = 100)\n",
    "# title\n",
    "plt.title('Average rating of Korean Resturants for each Borough')\n",
    "#On x-axis\n",
    "plt.xlabel('Borough', fontsize = 15)\n",
    "#On y-axis\n",
    "plt.ylabel('Average Rating', fontsize=15)\n",
    "#giving a bar plot\n",
    "korean_rest_stats_ny.groupby('Borough').mean()['Rating'].plot(kind='bar',color=['green'])\n",
    "#legend\n",
    "plt.legend()\n",
    "#displays the plot\n",
    "plt.show()\n"
   ]
  },
  {
   "cell_type": "markdown",
   "metadata": {},
   "source": [
    "#### here i  will consider all the neighborhoods with average rating greater or equal 8.8 to visualize on map"
   ]
  },
  {
   "cell_type": "code",
   "execution_count": 51,
   "metadata": {},
   "outputs": [],
   "source": [
    "\n",
    "ny_neighborhood_stats=ny_neighborhood_stats[ny_neighborhood_stats['Average Rating']>=8.8]"
   ]
  },
  {
   "cell_type": "code",
   "execution_count": 52,
   "metadata": {},
   "outputs": [
    {
     "data": {
      "text/html": [
       "<div>\n",
       "<style scoped>\n",
       "    .dataframe tbody tr th:only-of-type {\n",
       "        vertical-align: middle;\n",
       "    }\n",
       "\n",
       "    .dataframe tbody tr th {\n",
       "        vertical-align: top;\n",
       "    }\n",
       "\n",
       "    .dataframe thead th {\n",
       "        text-align: right;\n",
       "    }\n",
       "</style>\n",
       "<table border=\"1\" class=\"dataframe\">\n",
       "  <thead>\n",
       "    <tr style=\"text-align: right;\">\n",
       "      <th></th>\n",
       "      <th>Neighborhood</th>\n",
       "      <th>Average Rating</th>\n",
       "    </tr>\n",
       "  </thead>\n",
       "  <tbody>\n",
       "    <tr>\n",
       "      <td>3</td>\n",
       "      <td>East Village</td>\n",
       "      <td>8.900</td>\n",
       "    </tr>\n",
       "    <tr>\n",
       "      <td>7</td>\n",
       "      <td>Midtown South</td>\n",
       "      <td>9.025</td>\n",
       "    </tr>\n",
       "  </tbody>\n",
       "</table>\n",
       "</div>"
      ],
      "text/plain": [
       "    Neighborhood  Average Rating\n",
       "3   East Village           8.900\n",
       "7  Midtown South           9.025"
      ]
     },
     "execution_count": 52,
     "metadata": {},
     "output_type": "execute_result"
    }
   ],
   "source": [
    "ny_neighborhood_stats"
   ]
  },
  {
   "cell_type": "markdown",
   "metadata": {},
   "source": [
    "#### here it is needed to join this dataset to original New York data to get longitude and latitude."
   ]
  },
  {
   "cell_type": "code",
   "execution_count": 56,
   "metadata": {},
   "outputs": [],
   "source": [
    "\n",
    "ny_neighborhood_stats=pd.merge(ny_neighborhood_stats,new_york_data, on='Neighborhood')"
   ]
  },
  {
   "cell_type": "code",
   "execution_count": 57,
   "metadata": {},
   "outputs": [],
   "source": [
    "ny_neighborhood_stats=ny_neighborhood_stats[['Borough','Neighborhood','Latitude','Longitude','Average Rating']]"
   ]
  },
  {
   "cell_type": "code",
   "execution_count": 58,
   "metadata": {},
   "outputs": [
    {
     "data": {
      "text/html": [
       "<div>\n",
       "<style scoped>\n",
       "    .dataframe tbody tr th:only-of-type {\n",
       "        vertical-align: middle;\n",
       "    }\n",
       "\n",
       "    .dataframe tbody tr th {\n",
       "        vertical-align: top;\n",
       "    }\n",
       "\n",
       "    .dataframe thead th {\n",
       "        text-align: right;\n",
       "    }\n",
       "</style>\n",
       "<table border=\"1\" class=\"dataframe\">\n",
       "  <thead>\n",
       "    <tr style=\"text-align: right;\">\n",
       "      <th></th>\n",
       "      <th>Borough</th>\n",
       "      <th>Neighborhood</th>\n",
       "      <th>Latitude</th>\n",
       "      <th>Longitude</th>\n",
       "      <th>Average Rating</th>\n",
       "    </tr>\n",
       "  </thead>\n",
       "  <tbody>\n",
       "    <tr>\n",
       "      <td>0</td>\n",
       "      <td>Manhattan</td>\n",
       "      <td>East Village</td>\n",
       "      <td>40.727847</td>\n",
       "      <td>-73.982226</td>\n",
       "      <td>8.900</td>\n",
       "    </tr>\n",
       "    <tr>\n",
       "      <td>1</td>\n",
       "      <td>Manhattan</td>\n",
       "      <td>Midtown South</td>\n",
       "      <td>40.748510</td>\n",
       "      <td>-73.988713</td>\n",
       "      <td>9.025</td>\n",
       "    </tr>\n",
       "  </tbody>\n",
       "</table>\n",
       "</div>"
      ],
      "text/plain": [
       "     Borough   Neighborhood   Latitude  Longitude  Average Rating\n",
       "0  Manhattan   East Village  40.727847 -73.982226           8.900\n",
       "1  Manhattan  Midtown South  40.748510 -73.988713           9.025"
      ]
     },
     "execution_count": 58,
     "metadata": {},
     "output_type": "execute_result"
    }
   ],
   "source": [
    "ny_neighborhood_stats"
   ]
  },
  {
   "cell_type": "markdown",
   "metadata": {},
   "source": [
    "#### Now I will show this data on a map."
   ]
  },
  {
   "cell_type": "code",
   "execution_count": 59,
   "metadata": {},
   "outputs": [],
   "source": [
    "# create map and display it\n",
    "ny_map = folium.Map(location=geo_location('New York'), zoom_start=12)\n"
   ]
  },
  {
   "cell_type": "code",
   "execution_count": 60,
   "metadata": {},
   "outputs": [],
   "source": [
    "# instantiate a feature group for the incidents in the dataframe\n",
    "incidents = folium.map.FeatureGroup()\n",
    "\n",
    "# loop through the 100 crimes and add each to the incidents feature group\n",
    "for lat, lng, in ny_neighborhood_stats[['Latitude','Longitude']].values:\n",
    "    incidents.add_child(\n",
    "        folium.CircleMarker(\n",
    "            [lat, lng],\n",
    "            radius=10, # define how big you want the circle markers to be\n",
    "            color='yellow',\n",
    "            fill=True,\n",
    "            fill_color='blue',\n",
    "            fill_opacity=0.6\n",
    "        )\n",
    "    )\n"
   ]
  },
  {
   "cell_type": "markdown",
   "metadata": {},
   "source": [
    "####  now Lets add a new field to data frame for labeling purpose."
   ]
  },
  {
   "cell_type": "code",
   "execution_count": 61,
   "metadata": {},
   "outputs": [],
   "source": [
    "ny_neighborhood_stats['Label']=ny_neighborhood_stats['Neighborhood']+', '+ny_neighborhood_stats['Borough']+'('+ny_neighborhood_stats['Average Rating'].map(str)+')'\n"
   ]
  },
  {
   "cell_type": "code",
   "execution_count": 62,
   "metadata": {},
   "outputs": [
    {
     "data": {
      "text/html": [
       "<div style=\"width:100%;\"><div style=\"position:relative;width:100%;height:0;padding-bottom:60%;\"><iframe src=\"data:text/html;charset=utf-8;base64,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\" style=\"position:absolute;width:100%;height:100%;left:0;top:0;border:none !important;\" allowfullscreen webkitallowfullscreen mozallowfullscreen></iframe></div></div>"
      ],
      "text/plain": [
       "<folium.folium.Map at 0x7f544e7612e8>"
      ]
     },
     "execution_count": 62,
     "metadata": {},
     "output_type": "execute_result"
    }
   ],
   "source": [
    "# add pop-up text to each marker on the map\n",
    "for lat, lng, label in ny_neighborhood_stats[['Latitude','Longitude','Label']].values:\n",
    "    folium.Marker([lat, lng], popup=label).add_to(ny_map)  \n",
    "    \n",
    "# add incidents to map\n",
    "ny_map.add_child(incidents)"
   ]
  },
  {
   "cell_type": "markdown",
   "metadata": {},
   "source": [
    "#### Now i have visualized the Neighborhoods. Next i will visualize boroughs based on average rating\n"
   ]
  },
  {
   "cell_type": "code",
   "execution_count": 63,
   "metadata": {},
   "outputs": [],
   "source": [
    "ny_map = folium.Map(location=geo_location('New York'), zoom_start=12)\n",
    "\n",
    "ny_geo = r'Borough Boundaries.geojson'\n",
    "\n",
    "ny_map.choropleth(\n",
    "    geo_data=ny_geo,\n",
    "    data=ny_borough_stats,\n",
    "    columns=['Borough', 'Average Rating'],\n",
    "    key_on='feature.properties.boro_name',\n",
    "    fill_color='YlOrRd', \n",
    "    fill_opacity=0.7, \n",
    "    line_opacity=0.2,\n",
    "    legend_name='Average Rating'\n",
    ")\n",
    "\n",
    "# display \n",
    "\n",
    "# as this is huge map data , we will save it to a file\n",
    "ny_map.save('borough_rating.html')"
   ]
  },
  {
   "cell_type": "code",
   "execution_count": null,
   "metadata": {},
   "outputs": [],
   "source": []
  }
 ],
 "metadata": {
  "kernelspec": {
   "display_name": "Python",
   "language": "python",
   "name": "conda-env-python-py"
  },
  "language_info": {
   "codemirror_mode": {
    "name": "ipython",
    "version": 3
   },
   "file_extension": ".py",
   "mimetype": "text/x-python",
   "name": "python",
   "nbconvert_exporter": "python",
   "pygments_lexer": "ipython3",
   "version": "3.6.7"
  }
 },
 "nbformat": 4,
 "nbformat_minor": 4
}
